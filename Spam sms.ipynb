{
 "cells": [
  {
   "cell_type": "markdown",
   "id": "06dcabd6",
   "metadata": {},
   "source": [
    " Import libraries\n",
    " "
   ]
  },
  {
   "cell_type": "code",
   "execution_count": 1,
   "id": "92d0f3e2",
   "metadata": {},
   "outputs": [],
   "source": [
    "import numpy as np\n",
    "import pandas as pd\n",
    "from sklearn.model_selection import train_test_split\n",
    "from sklearn.feature_extraction.text import TfidfVectorizer \n",
    "from sklearn.svm import LinearSVC\n",
    "from sklearn.metrics import accuracy_score"
   ]
  },
  {
   "cell_type": "markdown",
   "id": "a33ba59b",
   "metadata": {},
   "source": [
    "Data PreProcessing\n",
    "1)  Read csv file by using panda.\n",
    "\n",
    "2)  Replace the null value by null string.\n",
    "\n",
    "* ('') means null value\n"
   ]
  },
  {
   "cell_type": "code",
   "execution_count": 3,
   "id": "26b7e6cb",
   "metadata": {},
   "outputs": [],
   "source": [
    "raw_mail_data = pd.read_csv(r\"C:\\Users\\User\\spam.csv\",encoding = 'latin-1') # To avoid UTF 8 error we use (encoding = 'latin1')\n",
    "mail_data = raw_mail_data.where((pd.notnull(raw_mail_data)),'')"
   ]
  },
  {
   "cell_type": "code",
   "execution_count": 4,
   "id": "1d5c78c3",
   "metadata": {},
   "outputs": [
    {
     "data": {
      "text/plain": [
       "(5572, 5)"
      ]
     },
     "execution_count": 4,
     "metadata": {},
     "output_type": "execute_result"
    }
   ],
   "source": [
    "# To check mail spam data set\n",
    "\n",
    "# To conform the requirements (like here we need only 2 columns one for spam or ham and another one for message)\n",
    "\n",
    "mail_data.shape"
   ]
  },
  {
   "cell_type": "code",
   "execution_count": 5,
   "id": "019cab04",
   "metadata": {},
   "outputs": [
    {
     "data": {
      "text/html": [
       "<div>\n",
       "<style scoped>\n",
       "    .dataframe tbody tr th:only-of-type {\n",
       "        vertical-align: middle;\n",
       "    }\n",
       "\n",
       "    .dataframe tbody tr th {\n",
       "        vertical-align: top;\n",
       "    }\n",
       "\n",
       "    .dataframe thead th {\n",
       "        text-align: right;\n",
       "    }\n",
       "</style>\n",
       "<table border=\"1\" class=\"dataframe\">\n",
       "  <thead>\n",
       "    <tr style=\"text-align: right;\">\n",
       "      <th></th>\n",
       "      <th>v1</th>\n",
       "      <th>v2</th>\n",
       "      <th>Unnamed: 2</th>\n",
       "      <th>Unnamed: 3</th>\n",
       "      <th>Unnamed: 4</th>\n",
       "    </tr>\n",
       "  </thead>\n",
       "  <tbody>\n",
       "    <tr>\n",
       "      <th>0</th>\n",
       "      <td>ham</td>\n",
       "      <td>Go until jurong point, crazy.. Available only ...</td>\n",
       "      <td></td>\n",
       "      <td></td>\n",
       "      <td></td>\n",
       "    </tr>\n",
       "    <tr>\n",
       "      <th>1</th>\n",
       "      <td>ham</td>\n",
       "      <td>Ok lar... Joking wif u oni...</td>\n",
       "      <td></td>\n",
       "      <td></td>\n",
       "      <td></td>\n",
       "    </tr>\n",
       "    <tr>\n",
       "      <th>2</th>\n",
       "      <td>spam</td>\n",
       "      <td>Free entry in 2 a wkly comp to win FA Cup fina...</td>\n",
       "      <td></td>\n",
       "      <td></td>\n",
       "      <td></td>\n",
       "    </tr>\n",
       "    <tr>\n",
       "      <th>3</th>\n",
       "      <td>ham</td>\n",
       "      <td>U dun say so early hor... U c already then say...</td>\n",
       "      <td></td>\n",
       "      <td></td>\n",
       "      <td></td>\n",
       "    </tr>\n",
       "    <tr>\n",
       "      <th>4</th>\n",
       "      <td>ham</td>\n",
       "      <td>Nah I don't think he goes to usf, he lives aro...</td>\n",
       "      <td></td>\n",
       "      <td></td>\n",
       "      <td></td>\n",
       "    </tr>\n",
       "  </tbody>\n",
       "</table>\n",
       "</div>"
      ],
      "text/plain": [
       "     v1                                                 v2 Unnamed: 2  \\\n",
       "0   ham  Go until jurong point, crazy.. Available only ...              \n",
       "1   ham                      Ok lar... Joking wif u oni...              \n",
       "2  spam  Free entry in 2 a wkly comp to win FA Cup fina...              \n",
       "3   ham  U dun say so early hor... U c already then say...              \n",
       "4   ham  Nah I don't think he goes to usf, he lives aro...              \n",
       "\n",
       "  Unnamed: 3 Unnamed: 4  \n",
       "0                        \n",
       "1                        \n",
       "2                        \n",
       "3                        \n",
       "4                        "
      ]
     },
     "execution_count": 5,
     "metadata": {},
     "output_type": "execute_result"
    }
   ],
   "source": [
    "# Here we have 5 columns. So we use head to check for our needed data\n",
    "\n",
    "mail_data.head()"
   ]
  },
  {
   "cell_type": "code",
   "execution_count": 6,
   "id": "48d31a7a",
   "metadata": {},
   "outputs": [],
   "source": [
    "# Three unwanted columns are there.\n",
    "# We only need two columns.\n",
    "# 1)- Ham/Spam(catagory)\n",
    "# 2)- Message(text)\n",
    "\n",
    "mail_data = mail_data.drop(['Unnamed: 2', 'Unnamed: 3',\t'Unnamed: 4'], axis = 1)"
   ]
  },
  {
   "cell_type": "code",
   "execution_count": 7,
   "id": "f4cacce7",
   "metadata": {},
   "outputs": [
    {
     "data": {
      "text/plain": [
       "(5572, 2)"
      ]
     },
     "execution_count": 7,
     "metadata": {},
     "output_type": "execute_result"
    }
   ],
   "source": [
    "mail_data.shape"
   ]
  },
  {
   "cell_type": "code",
   "execution_count": 8,
   "id": "078b4ca7",
   "metadata": {},
   "outputs": [],
   "source": [
    "# labeling of spam mail and non spam mail (Ham) \n",
    "# lable spam mail as 1\n",
    "# Lable non spam mail(Ham) as 0\n",
    "\n",
    "mail_data.loc[mail_data['v1']=='spam','v1']=0\n",
    "mail_data.loc[mail_data['v1']=='ham','v1']=1"
   ]
  },
  {
   "cell_type": "code",
   "execution_count": 9,
   "id": "750541a6",
   "metadata": {},
   "outputs": [],
   "source": [
    "# Data sepration as text and lable.\n",
    "# Text as X\n",
    "# Lable as Y\n",
    "\n",
    "X = mail_data['v2']\n",
    "Y = mail_data['v1']"
   ]
  },
  {
   "cell_type": "code",
   "execution_count": 10,
   "id": "6a4eaf71",
   "metadata": {},
   "outputs": [
    {
     "name": "stdout",
     "output_type": "stream",
     "text": [
      "0       Go until jurong point, crazy.. Available only ...\n",
      "1                           Ok lar... Joking wif u oni...\n",
      "2       Free entry in 2 a wkly comp to win FA Cup fina...\n",
      "3       U dun say so early hor... U c already then say...\n",
      "4       Nah I don't think he goes to usf, he lives aro...\n",
      "                              ...                        \n",
      "5567    This is the 2nd time we have tried 2 contact u...\n",
      "5568                Will Ì_ b going to esplanade fr home?\n",
      "5569    Pity, * was in mood for that. So...any other s...\n",
      "5570    The guy did some bitching but I acted like i'd...\n",
      "5571                           Rofl. Its true to its name\n",
      "Name: v2, Length: 5572, dtype: object\n",
      ",,,,,,,\n",
      "0       1\n",
      "1       1\n",
      "2       0\n",
      "3       1\n",
      "4       1\n",
      "       ..\n",
      "5567    0\n",
      "5568    1\n",
      "5569    1\n",
      "5570    1\n",
      "5571    1\n",
      "Name: v1, Length: 5572, dtype: object\n"
     ]
    }
   ],
   "source": [
    "print(X)\n",
    "print(',,,,,,,')\n",
    "\n",
    "print(Y)"
   ]
  },
  {
   "cell_type": "code",
   "execution_count": 11,
   "id": "de8cfc3d",
   "metadata": {},
   "outputs": [],
   "source": [
    "# Train test split\n",
    "# Here we split our data to train data and test data model \n",
    "X_train, X_test, Y_train,Y_test = train_test_split(X, Y, train_size = 0.8, test_size = 0.2, random_state = 3)"
   ]
  },
  {
   "cell_type": "code",
   "execution_count": 12,
   "id": "9bd2effa",
   "metadata": {},
   "outputs": [],
   "source": [
    "# Feature Extraction\n",
    "# Here we extract feature vector from text to train our model.\n",
    "# Transform text data into feature vector by the help of Tfidf Vectorizer, which (f.v) can be used as input to SVM model.\n",
    "# Convert the text to the lower case .\n",
    "\n",
    "feature_extraction = TfidfVectorizer(min_df = 1, stop_words = 'english', lowercase = 'True')\n",
    "X_train_features = feature_extraction.fit_transform(X_train)\n",
    "X_test_features = feature_extraction.transform(X_test)# YAHA NUMBER BAN GYEE H\n",
    "# Convert t_train and t_test values as integers\n",
    "\n",
    "Y_train = Y_train.astype('int')\n",
    "Y_test = Y_test.astype('int')"
   ]
  },
  {
   "cell_type": "code",
   "execution_count": 13,
   "id": "f180b014",
   "metadata": {},
   "outputs": [
    {
     "data": {
      "text/plain": [
       "LinearSVC()"
      ]
     },
     "execution_count": 13,
     "metadata": {},
     "output_type": "execute_result"
    }
   ],
   "source": [
    "# Training the model SVM\n",
    "# Training the support vector machine model with training data\n",
    "model = LinearSVC()\n",
    "model.fit(X_train_features,Y_train)"
   ]
  },
  {
   "cell_type": "code",
   "execution_count": 14,
   "id": "a93568f8",
   "metadata": {},
   "outputs": [],
   "source": [
    "# Evalution of model\n",
    "# Prediction on the training data\n",
    "prediction_on_training_data = model.predict(X_train_features)\n",
    "accuracy_on_training_data = accuracy_score(Y_train, prediction_on_training_data) "
   ]
  },
  {
   "cell_type": "code",
   "execution_count": 15,
   "id": "4cfe45f5",
   "metadata": {},
   "outputs": [
    {
     "name": "stdout",
     "output_type": "stream",
     "text": [
      "Accuracy on training data 0.9995512676688355\n"
     ]
    }
   ],
   "source": [
    "print('Accuracy on training data',accuracy_on_training_data)"
   ]
  },
  {
   "cell_type": "code",
   "execution_count": 16,
   "id": "ae65bf5d",
   "metadata": {},
   "outputs": [],
   "source": [
    "# Prediction on the test data\n",
    "\n",
    "prediction_on_test_data = model.predict(X_test_features)\n",
    "accuracy_on_test_data = accuracy_score(Y_test, prediction_on_test_data)"
   ]
  },
  {
   "cell_type": "code",
   "execution_count": 17,
   "id": "fb344038",
   "metadata": {},
   "outputs": [
    {
     "name": "stdout",
     "output_type": "stream",
     "text": [
      "Accuracy on test data 0.9856502242152466\n"
     ]
    }
   ],
   "source": [
    "print('Accuracy on test data',accuracy_on_test_data)"
   ]
  },
  {
   "cell_type": "code",
   "execution_count": 18,
   "id": "47152057",
   "metadata": {},
   "outputs": [
    {
     "name": "stdout",
     "output_type": "stream",
     "text": [
      "[0]\n",
      "Spam mail\n"
     ]
    }
   ],
   "source": [
    "input_mail = [\"Free entry in 2 a wkly comp to win FA Cup fina\"]\n",
    "# We have to convert text into feature vector because be can't direct feed text to model\n",
    "input_mail_features = feature_extraction.transform(input_mail)\n",
    "              \n",
    "              # Making prediction\n",
    "              \n",
    "prediction = model.predict(input_mail_features)\n",
    "print(prediction)\n",
    "              \n",
    "              \n",
    "if(prediction[0]==1):\n",
    "  print('Ham mail')\n",
    "              \n",
    "else:\n",
    "  print('Spam mail')"
   ]
  },
  {
   "cell_type": "code",
   "execution_count": null,
   "id": "9ee6e2b0",
   "metadata": {},
   "outputs": [],
   "source": []
  }
 ],
 "metadata": {
  "kernelspec": {
   "display_name": "Python 3 (ipykernel)",
   "language": "python",
   "name": "python3"
  },
  "language_info": {
   "codemirror_mode": {
    "name": "ipython",
    "version": 3
   },
   "file_extension": ".py",
   "mimetype": "text/x-python",
   "name": "python",
   "nbconvert_exporter": "python",
   "pygments_lexer": "ipython3",
   "version": "3.9.13"
  }
 },
 "nbformat": 4,
 "nbformat_minor": 5
}
